{
 "cells": [
  {
   "cell_type": "code",
   "execution_count": 1,
   "metadata": {},
   "outputs": [
    {
     "name": "stderr",
     "output_type": "stream",
     "text": [
      "100%|███████████████████████████████████████| 139M/139M [00:02<00:00, 61.9MiB/s]\n"
     ]
    }
   ],
   "source": [
    "import whisper\n",
    "\n",
    "model = whisper.load_model(\"base\")\n"
   ]
  },
  {
   "cell_type": "code",
   "execution_count": 3,
   "metadata": {},
   "outputs": [],
   "source": [
    "def process_file(file):\n",
    "  # Read the file contents\n",
    "    print(file)\n",
    "    result = model.transcribe(file.name)\n",
    "\n",
    "    return result[\"text\"]"
   ]
  },
  {
   "cell_type": "code",
   "execution_count": 7,
   "metadata": {},
   "outputs": [
    {
     "name": "stdout",
     "output_type": "stream",
     "text": [
      "Running on local URL:  http://0.0.0.0:7861\n",
      "Running on public URL: https://ece8100530d07b3341.gradio.live\n",
      "\n",
      "This share link expires in 72 hours. For free permanent hosting and GPU upgrades, run `gradio deploy` from Terminal to deploy to Spaces (https://huggingface.co/spaces)\n"
     ]
    },
    {
     "data": {
      "text/html": [
       "<div><iframe src=\"https://ece8100530d07b3341.gradio.live\" width=\"100%\" height=\"500\" allow=\"autoplay; camera; microphone; clipboard-read; clipboard-write;\" frameborder=\"0\" allowfullscreen></iframe></div>"
      ],
      "text/plain": [
       "<IPython.core.display.HTML object>"
      ]
     },
     "metadata": {},
     "output_type": "display_data"
    },
    {
     "data": {
      "text/plain": []
     },
     "execution_count": 7,
     "metadata": {},
     "output_type": "execute_result"
    },
    {
     "name": "stderr",
     "output_type": "stream",
     "text": [
      "ERROR:    Exception in ASGI application\n",
      "  + Exception Group Traceback (most recent call last):\n",
      "  |   File \"/home/vardhanam/anaconda3/lib/python3.11/site-packages/starlette/_utils.py\", line 87, in collapse_excgroups\n",
      "  |     yield\n",
      "  |   File \"/home/vardhanam/anaconda3/lib/python3.11/site-packages/starlette/middleware/base.py\", line 190, in __call__\n",
      "  |     async with anyio.create_task_group() as task_group:\n",
      "  |   File \"/home/vardhanam/anaconda3/lib/python3.11/site-packages/anyio/_backends/_asyncio.py\", line 678, in __aexit__\n",
      "  |     raise BaseExceptionGroup(\n",
      "  | ExceptionGroup: unhandled errors in a TaskGroup (1 sub-exception)\n",
      "  +-+---------------- 1 ----------------\n",
      "    | Traceback (most recent call last):\n",
      "    |   File \"/home/vardhanam/anaconda3/lib/python3.11/site-packages/uvicorn/protocols/http/h11_impl.py\", line 408, in run_asgi\n",
      "    |     result = await app(  # type: ignore[func-returns-value]\n",
      "    |              ^^^^^^^^^^^^^^^^^^^^^^^^^^^^^^^^^^^^^^^^^^^^^^\n",
      "    |   File \"/home/vardhanam/anaconda3/lib/python3.11/site-packages/uvicorn/middleware/proxy_headers.py\", line 69, in __call__\n",
      "    |     return await self.app(scope, receive, send)\n",
      "    |            ^^^^^^^^^^^^^^^^^^^^^^^^^^^^^^^^^^^^\n",
      "    |   File \"/home/vardhanam/anaconda3/lib/python3.11/site-packages/fastapi/applications.py\", line 1054, in __call__\n",
      "    |     await super().__call__(scope, receive, send)\n",
      "    |   File \"/home/vardhanam/anaconda3/lib/python3.11/site-packages/starlette/applications.py\", line 123, in __call__\n",
      "    |     await self.middleware_stack(scope, receive, send)\n",
      "    |   File \"/home/vardhanam/anaconda3/lib/python3.11/site-packages/starlette/middleware/errors.py\", line 186, in __call__\n",
      "    |     raise exc\n",
      "    |   File \"/home/vardhanam/anaconda3/lib/python3.11/site-packages/starlette/middleware/errors.py\", line 164, in __call__\n",
      "    |     await self.app(scope, receive, _send)\n",
      "    |   File \"/home/vardhanam/anaconda3/lib/python3.11/site-packages/starlette/middleware/base.py\", line 189, in __call__\n",
      "    |     with collapse_excgroups():\n",
      "    |   File \"/home/vardhanam/anaconda3/lib/python3.11/contextlib.py\", line 158, in __exit__\n",
      "    |     self.gen.throw(typ, value, traceback)\n",
      "    |   File \"/home/vardhanam/anaconda3/lib/python3.11/site-packages/starlette/_utils.py\", line 93, in collapse_excgroups\n",
      "    |     raise exc\n",
      "    |   File \"/home/vardhanam/anaconda3/lib/python3.11/site-packages/starlette/middleware/base.py\", line 191, in __call__\n",
      "    |     response = await self.dispatch_func(request, call_next)\n",
      "    |                ^^^^^^^^^^^^^^^^^^^^^^^^^^^^^^^^^^^^^^^^^^^^\n",
      "    |   File \"/home/vardhanam/anaconda3/lib/python3.11/site-packages/gradio/route_utils.py\", line 664, in dispatch\n",
      "    |     response = await call_next(request)\n",
      "    |                ^^^^^^^^^^^^^^^^^^^^^^^^\n",
      "    |   File \"/home/vardhanam/anaconda3/lib/python3.11/site-packages/starlette/middleware/base.py\", line 165, in call_next\n",
      "    |     raise app_exc\n",
      "    |   File \"/home/vardhanam/anaconda3/lib/python3.11/site-packages/starlette/middleware/base.py\", line 151, in coro\n",
      "    |     await self.app(scope, receive_or_disconnect, send_no_error)\n",
      "    |   File \"/home/vardhanam/anaconda3/lib/python3.11/site-packages/starlette/middleware/exceptions.py\", line 62, in __call__\n",
      "    |     await wrap_app_handling_exceptions(self.app, conn)(scope, receive, send)\n",
      "    |   File \"/home/vardhanam/anaconda3/lib/python3.11/site-packages/starlette/_exception_handler.py\", line 64, in wrapped_app\n",
      "    |     raise exc\n",
      "    |   File \"/home/vardhanam/anaconda3/lib/python3.11/site-packages/starlette/_exception_handler.py\", line 53, in wrapped_app\n",
      "    |     await app(scope, receive, sender)\n",
      "    |   File \"/home/vardhanam/anaconda3/lib/python3.11/site-packages/starlette/routing.py\", line 758, in __call__\n",
      "    |     await self.middleware_stack(scope, receive, send)\n",
      "    |   File \"/home/vardhanam/anaconda3/lib/python3.11/site-packages/starlette/routing.py\", line 778, in app\n",
      "    |     await route.handle(scope, receive, send)\n",
      "    |   File \"/home/vardhanam/anaconda3/lib/python3.11/site-packages/starlette/routing.py\", line 299, in handle\n",
      "    |     await self.app(scope, receive, send)\n",
      "    |   File \"/home/vardhanam/anaconda3/lib/python3.11/site-packages/starlette/routing.py\", line 79, in app\n",
      "    |     await wrap_app_handling_exceptions(app, request)(scope, receive, send)\n",
      "    |   File \"/home/vardhanam/anaconda3/lib/python3.11/site-packages/starlette/_exception_handler.py\", line 64, in wrapped_app\n",
      "    |     raise exc\n",
      "    |   File \"/home/vardhanam/anaconda3/lib/python3.11/site-packages/starlette/_exception_handler.py\", line 53, in wrapped_app\n",
      "    |     await app(scope, receive, sender)\n",
      "    |   File \"/home/vardhanam/anaconda3/lib/python3.11/site-packages/starlette/routing.py\", line 74, in app\n",
      "    |     response = await func(request)\n",
      "    |                ^^^^^^^^^^^^^^^^^^^\n",
      "    |   File \"/home/vardhanam/anaconda3/lib/python3.11/site-packages/fastapi/routing.py\", line 278, in app\n",
      "    |     raw_response = await run_endpoint_function(\n",
      "    |                    ^^^^^^^^^^^^^^^^^^^^^^^^^^^^\n",
      "    |   File \"/home/vardhanam/anaconda3/lib/python3.11/site-packages/fastapi/routing.py\", line 191, in run_endpoint_function\n",
      "    |     return await dependant.call(**values)\n",
      "    |            ^^^^^^^^^^^^^^^^^^^^^^^^^^^^^^\n",
      "    |   File \"/home/vardhanam/anaconda3/lib/python3.11/site-packages/gradio/routes.py\", line 919, in upload_file\n",
      "    |     directory.mkdir(exist_ok=True, parents=True)\n",
      "    |   File \"/home/vardhanam/anaconda3/lib/python3.11/pathlib.py\", line 1116, in mkdir\n",
      "    |     os.mkdir(self, mode)\n",
      "    | PermissionError: [Errno 13] Permission denied: '/tmp/gradio/987891219265959c90f0e1353e321a4b59ed748a'\n",
      "    +------------------------------------\n",
      "\n",
      "During handling of the above exception, another exception occurred:\n",
      "\n",
      "Traceback (most recent call last):\n",
      "  File \"/home/vardhanam/anaconda3/lib/python3.11/site-packages/uvicorn/protocols/http/h11_impl.py\", line 408, in run_asgi\n",
      "    result = await app(  # type: ignore[func-returns-value]\n",
      "             ^^^^^^^^^^^^^^^^^^^^^^^^^^^^^^^^^^^^^^^^^^^^^^\n",
      "  File \"/home/vardhanam/anaconda3/lib/python3.11/site-packages/uvicorn/middleware/proxy_headers.py\", line 69, in __call__\n",
      "    return await self.app(scope, receive, send)\n",
      "           ^^^^^^^^^^^^^^^^^^^^^^^^^^^^^^^^^^^^\n",
      "  File \"/home/vardhanam/anaconda3/lib/python3.11/site-packages/fastapi/applications.py\", line 1054, in __call__\n",
      "    await super().__call__(scope, receive, send)\n",
      "  File \"/home/vardhanam/anaconda3/lib/python3.11/site-packages/starlette/applications.py\", line 123, in __call__\n",
      "    await self.middleware_stack(scope, receive, send)\n",
      "  File \"/home/vardhanam/anaconda3/lib/python3.11/site-packages/starlette/middleware/errors.py\", line 186, in __call__\n",
      "    raise exc\n",
      "  File \"/home/vardhanam/anaconda3/lib/python3.11/site-packages/starlette/middleware/errors.py\", line 164, in __call__\n",
      "    await self.app(scope, receive, _send)\n",
      "  File \"/home/vardhanam/anaconda3/lib/python3.11/site-packages/starlette/middleware/base.py\", line 189, in __call__\n",
      "    with collapse_excgroups():\n",
      "  File \"/home/vardhanam/anaconda3/lib/python3.11/contextlib.py\", line 158, in __exit__\n",
      "    self.gen.throw(typ, value, traceback)\n",
      "  File \"/home/vardhanam/anaconda3/lib/python3.11/site-packages/starlette/_utils.py\", line 93, in collapse_excgroups\n",
      "    raise exc\n",
      "  File \"/home/vardhanam/anaconda3/lib/python3.11/site-packages/starlette/middleware/base.py\", line 191, in __call__\n",
      "    response = await self.dispatch_func(request, call_next)\n",
      "               ^^^^^^^^^^^^^^^^^^^^^^^^^^^^^^^^^^^^^^^^^^^^\n",
      "  File \"/home/vardhanam/anaconda3/lib/python3.11/site-packages/gradio/route_utils.py\", line 664, in dispatch\n",
      "    response = await call_next(request)\n",
      "               ^^^^^^^^^^^^^^^^^^^^^^^^\n",
      "  File \"/home/vardhanam/anaconda3/lib/python3.11/site-packages/starlette/middleware/base.py\", line 165, in call_next\n",
      "    raise app_exc\n",
      "  File \"/home/vardhanam/anaconda3/lib/python3.11/site-packages/starlette/middleware/base.py\", line 151, in coro\n",
      "    await self.app(scope, receive_or_disconnect, send_no_error)\n",
      "  File \"/home/vardhanam/anaconda3/lib/python3.11/site-packages/starlette/middleware/exceptions.py\", line 62, in __call__\n",
      "    await wrap_app_handling_exceptions(self.app, conn)(scope, receive, send)\n",
      "  File \"/home/vardhanam/anaconda3/lib/python3.11/site-packages/starlette/_exception_handler.py\", line 64, in wrapped_app\n",
      "    raise exc\n",
      "  File \"/home/vardhanam/anaconda3/lib/python3.11/site-packages/starlette/_exception_handler.py\", line 53, in wrapped_app\n",
      "    await app(scope, receive, sender)\n",
      "  File \"/home/vardhanam/anaconda3/lib/python3.11/site-packages/starlette/routing.py\", line 758, in __call__\n",
      "    await self.middleware_stack(scope, receive, send)\n",
      "  File \"/home/vardhanam/anaconda3/lib/python3.11/site-packages/starlette/routing.py\", line 778, in app\n",
      "    await route.handle(scope, receive, send)\n",
      "  File \"/home/vardhanam/anaconda3/lib/python3.11/site-packages/starlette/routing.py\", line 299, in handle\n",
      "    await self.app(scope, receive, send)\n",
      "  File \"/home/vardhanam/anaconda3/lib/python3.11/site-packages/starlette/routing.py\", line 79, in app\n",
      "    await wrap_app_handling_exceptions(app, request)(scope, receive, send)\n",
      "  File \"/home/vardhanam/anaconda3/lib/python3.11/site-packages/starlette/_exception_handler.py\", line 64, in wrapped_app\n",
      "    raise exc\n",
      "  File \"/home/vardhanam/anaconda3/lib/python3.11/site-packages/starlette/_exception_handler.py\", line 53, in wrapped_app\n",
      "    await app(scope, receive, sender)\n",
      "  File \"/home/vardhanam/anaconda3/lib/python3.11/site-packages/starlette/routing.py\", line 74, in app\n",
      "    response = await func(request)\n",
      "               ^^^^^^^^^^^^^^^^^^^\n",
      "  File \"/home/vardhanam/anaconda3/lib/python3.11/site-packages/fastapi/routing.py\", line 278, in app\n",
      "    raw_response = await run_endpoint_function(\n",
      "                   ^^^^^^^^^^^^^^^^^^^^^^^^^^^^\n",
      "  File \"/home/vardhanam/anaconda3/lib/python3.11/site-packages/fastapi/routing.py\", line 191, in run_endpoint_function\n",
      "    return await dependant.call(**values)\n",
      "           ^^^^^^^^^^^^^^^^^^^^^^^^^^^^^^\n",
      "  File \"/home/vardhanam/anaconda3/lib/python3.11/site-packages/gradio/routes.py\", line 919, in upload_file\n",
      "    directory.mkdir(exist_ok=True, parents=True)\n",
      "  File \"/home/vardhanam/anaconda3/lib/python3.11/pathlib.py\", line 1116, in mkdir\n",
      "    os.mkdir(self, mode)\n",
      "PermissionError: [Errno 13] Permission denied: '/tmp/gradio/987891219265959c90f0e1353e321a4b59ed748a'\n"
     ]
    },
    {
     "name": "stdout",
     "output_type": "stream",
     "text": [
      "/tmp/gradio/987891219265959c90f0e1353e321a4b59ed748a/17.mp3\n",
      "/tmp/gradio/aa1b1632b2c702bdf68b3e9d5509a952dca31606/18.mp3\n"
     ]
    }
   ],
   "source": [
    "from gradio import File, Interface, Textbox\n",
    "interface = Interface(fn=process_file, inputs=File(label=\"Upload a file\", type='filepath'), outputs=Textbox(label=\"Transcription\", lines=20, autoscroll=False), title= \"Whisper Audio Transcription\")\n",
    "interface.launch(server_name=\"0.0.0.0\", share=True)"
   ]
  },
  {
   "cell_type": "code",
   "execution_count": null,
   "metadata": {},
   "outputs": [],
   "source": [
    "sudo chown vardhanam:vardhanam /tmp/gradio"
   ]
  }
 ],
 "metadata": {
  "kernelspec": {
   "display_name": ".venv",
   "language": "python",
   "name": "python3"
  },
  "language_info": {
   "codemirror_mode": {
    "name": "ipython",
    "version": 3
   },
   "file_extension": ".py",
   "mimetype": "text/x-python",
   "name": "python",
   "nbconvert_exporter": "python",
   "pygments_lexer": "ipython3",
   "version": "3.11.7"
  }
 },
 "nbformat": 4,
 "nbformat_minor": 2
}
